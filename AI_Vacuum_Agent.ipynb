{
  "nbformat": 4,
  "nbformat_minor": 0,
  "metadata": {
    "colab": {
      "provenance": []
    },
    "kernelspec": {
      "name": "python3",
      "display_name": "Python 3"
    },
    "language_info": {
      "name": "python"
    }
  },
  "cells": [
    {
      "cell_type": "code",
      "execution_count": 1,
      "metadata": {
        "colab": {
          "base_uri": "https://localhost:8080/"
        },
        "id": "oDOd7i0zKDqj",
        "outputId": "3ab6303e-47fc-4c6a-9e7c-90582ab20a02"
      },
      "outputs": [
        {
          "output_type": "stream",
          "name": "stdout",
          "text": [
            "T = 100: Avg Score = -48.81\n",
            "T = 250: Avg Score = -149.35\n",
            "T = 500: Avg Score = -330.09\n",
            "T = 1000: Avg Score = -716.38\n"
          ]
        }
      ],
      "source": [
        "import numpy as np\n",
        "import random\n",
        "\n",
        "def create_environment(N, M):\n",
        "    env = np.random.choice([\"clean\", \"dirty\"], size=(N, M), p=[0.5, 0.5])\n",
        "    env[0, :] = \"wall\"\n",
        "    env[:, 0] = \"wall\"\n",
        "    env[N-1, :] = \"wall\"\n",
        "    env[:, M-1] = \"wall\"\n",
        "    return env\n",
        "\n",
        "def get_valid_moves(x, y, N, M):\n",
        "    moves = []\n",
        "    if x > 1: moves.append(\"up\")\n",
        "    if x < N-2: moves.append(\"down\")\n",
        "    if y > 1: moves.append(\"left\")\n",
        "    if y < M-2: moves.append(\"right\")\n",
        "    return moves\n",
        "\n",
        "def run_simulation(N, M, T):\n",
        "    env = create_environment(N, M)\n",
        "    x, y = 1, 1\n",
        "    score = 5\n",
        "\n",
        "    for _ in range(T):\n",
        "        if env[x, y] == \"dirty\":\n",
        "            env[x, y] = \"clean\"\n",
        "            score += 1\n",
        "        else:\n",
        "            moves = get_valid_moves(x, y, N, M)\n",
        "            action = random.choice(moves + [\"noop\"])  # Random movement or noop\n",
        "\n",
        "            if action == \"left\": y -= 1\n",
        "            elif action == \"right\": y += 1\n",
        "            elif action == \"down\": x += 1\n",
        "            elif action == \"up\": x -= 1\n",
        "            if action != \"noop\":\n",
        "                score -= 1\n",
        "\n",
        "    return score\n",
        "\n",
        "def main():\n",
        "    N, M = 10, 10\n",
        "    iterations_list = [100, 250, 500, 1000]\n",
        "    runs = 100\n",
        "\n",
        "    results = {T: [] for T in iterations_list}\n",
        "\n",
        "    for T in iterations_list:\n",
        "        for _ in range(runs):\n",
        "            results[T].append(run_simulation(N, M, T))\n",
        "        print(f\"T = {T}: Avg Score = {np.mean(results[T])}\")\n",
        "\n",
        "if __name__ == \"__main__\":\n",
        "    main()\n",
        "\n",
        "\n",
        "\n"
      ]
    }
  ]
}