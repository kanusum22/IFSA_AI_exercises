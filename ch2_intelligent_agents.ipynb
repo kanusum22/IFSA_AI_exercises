{
 "cells": [
  {
   "cell_type": "code",
   "execution_count": null,
   "metadata": {},
   "outputs": [
    {
     "name": "stdout",
     "output_type": "stream",
     "text": [
      "hi\n"
     ]
    }
   ],
   "source": [
    "print(\"tester\")"
   ]
  },
  {
   "cell_type": "markdown",
   "metadata": {},
   "source": [
    "Question 2.1: Suppose that the performance measure is concerned with just the first T time steps of the environment and ignores everything thereafter. Show that a rational agent’s action may depend not just on the state of the environment but also on the time step it has reached.\n",
    "\n",
    "Answer:"
   ]
  },
  {
   "cell_type": "markdown",
   "metadata": {},
   "source": [
    "Question 2.2: Let us examine the rationality of various vacuum-cleaner agent functions.\n",
    "1. Show that the simple vacuum-cleaner agent function described in Figure 2.3 is indeed rational under the assumptions listed on page \n",
    "2. Describe a rational agent function for the case in which each movement costs one point. Does the corresponding agent program require internal state?\n",
    "3. Discuss possible agent designs for the cases in which clean squares can become dirty and the geography of the environment is unknown. Does it make sense for the agent to learn from its experience in these cases? If so, what should it learn? If not, why not?\n",
    "\n",
    "Answer:"
   ]
  },
  {
   "cell_type": "markdown",
   "metadata": {},
   "source": [
    "Question 2.11: Implement a performance-measuring environment simulator for the vacuum-cleaner world depicted in Figure 2.8 and specified on page . Your implementation should be modular so that the sensors, actuators, and environment characteristics (size, shape, dirt placement, etc.) can be changed easily. (Note: for some choices of programming language and operating system there are already implementations in the online code repository.)"
   ]
  },
  {
   "cell_type": "markdown",
   "metadata": {},
   "source": [
    "Answer: Environment has location A and location B\n",
    "Input: "
   ]
  },
  {
   "cell_type": "code",
   "execution_count": 1,
   "metadata": {},
   "outputs": [
    {
     "ename": "ModuleNotFoundError",
     "evalue": "No module named 'numpy'",
     "output_type": "error",
     "traceback": [
      "\u001b[0;31m---------------------------------------------------------------------------\u001b[0m",
      "\u001b[0;31mModuleNotFoundError\u001b[0m                       Traceback (most recent call last)",
      "Cell \u001b[0;32mIn[1], line 1\u001b[0m\n\u001b[0;32m----> 1\u001b[0m \u001b[38;5;28;01mimport\u001b[39;00m\u001b[38;5;250m \u001b[39m\u001b[38;5;21;01mnumpy\u001b[39;00m\u001b[38;5;250m \u001b[39m\u001b[38;5;28;01mas\u001b[39;00m\u001b[38;5;250m \u001b[39m\u001b[38;5;21;01mnp\u001b[39;00m\n\u001b[1;32m      2\u001b[0m \u001b[38;5;28;01mimport\u001b[39;00m\u001b[38;5;250m \u001b[39m\u001b[38;5;21;01mrandom\u001b[39;00m\n\u001b[1;32m      4\u001b[0m \u001b[38;5;28;01mdef\u001b[39;00m\u001b[38;5;250m \u001b[39m\u001b[38;5;21mcreate_environment\u001b[39m(N, M):\n",
      "\u001b[0;31mModuleNotFoundError\u001b[0m: No module named 'numpy'"
     ]
    }
   ],
   "source": [
    "import numpy as np\n",
    "import random\n",
    "\n",
    "def create_environment(N, M):\n",
    "    env = np.random.choice([\"clean\", \"dirty\"], size=(N, M), p=[0.5, 0.5])\n",
    "    env[0, :] = \"wall\"\n",
    "    env[:, 0] = \"wall\"\n",
    "    env[N-1, :] = \"wall\"\n",
    "    env[:, M-1] = \"wall\"\n",
    "    return env\n",
    "\n",
    "def get_valid_moves(x, y, N, M):\n",
    "    moves = []\n",
    "    if x > 1: moves.append(\"up\")\n",
    "    if x < N-2: moves.append(\"down\")\n",
    "    if y > 1: moves.append(\"left\")\n",
    "    if y < M-2: moves.append(\"right\")\n",
    "    return moves\n",
    "\n",
    "def run_simulation(N, M, T):\n",
    "    env = create_environment(N, M)\n",
    "    x, y = 1, 1\n",
    "    score = 5\n",
    "    \n",
    "    for _ in range(T):\n",
    "        if env[x, y] == \"dirty\":\n",
    "            env[x, y] = \"clean\"\n",
    "            score += 1\n",
    "        else:\n",
    "            moves = get_valid_moves(x, y, N, M)\n",
    "            action = random.choice(moves + [\"noop\"])  # Random movement or noop\n",
    "            \n",
    "            if action == \"left\": y -= 1\n",
    "            elif action == \"right\": y += 1\n",
    "            elif action == \"down\": x += 1\n",
    "            elif action == \"up\": x -= 1\n",
    "            if action != \"noop\":\n",
    "                score -= 1\n",
    "    \n",
    "    return score\n",
    "\n",
    "def main():\n",
    "    N, M = 10, 10\n",
    "    iterations_list = [100, 250, 500, 1000]\n",
    "    runs = 100\n",
    "    \n",
    "    results = {T: [] for T in iterations_list}\n",
    "    \n",
    "    for T in iterations_list:\n",
    "        for _ in range(runs):\n",
    "            results[T].append(run_simulation(N, M, T))\n",
    "        print(f\"T = {T}: Avg Score = {np.mean(results[T])}\")\n",
    "    \n",
    "if __name__ == \"__main__\":\n",
    "    main()\n",
    "  \n",
    "\n",
    "\n"
   ]
  },
  {
   "cell_type": "code",
   "execution_count": null,
   "metadata": {},
   "outputs": [],
   "source": []
  }
 ],
 "metadata": {
  "kernelspec": {
   "display_name": "Python 3",
   "language": "python",
   "name": "python3"
  },
  "language_info": {
   "codemirror_mode": {
    "name": "ipython",
    "version": 3
   },
   "file_extension": ".py",
   "mimetype": "text/x-python",
   "name": "python",
   "nbconvert_exporter": "python",
   "pygments_lexer": "ipython3",
   "version": "3.12.5"
  }
 },
 "nbformat": 4,
 "nbformat_minor": 2
}
